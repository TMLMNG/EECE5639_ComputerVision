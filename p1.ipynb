{
  "nbformat": 4,
  "nbformat_minor": 0,
  "metadata": {
    "colab": {
      "name": "p1",
      "provenance": [],
      "collapsed_sections": [],
      "mount_file_id": "1zRN4NA7SqTMaG-64AEuHtB9tmhDTswtJ",
      "authorship_tag": "ABX9TyPiX5a/tHFySKywhH4D9Xkl",
      "include_colab_link": true
    },
    "kernelspec": {
      "name": "python3",
      "display_name": "Python 3"
    },
    "language_info": {
      "name": "python"
    }
  },
  "cells": [
    {
      "cell_type": "markdown",
      "metadata": {
        "id": "view-in-github",
        "colab_type": "text"
      },
      "source": [
        "<a href=\"https://colab.research.google.com/github/scheung97/EECE5639_ComputerVision/blob/main/p1.ipynb\" target=\"_parent\"><img src=\"https://colab.research.google.com/assets/colab-badge.svg\" alt=\"Open In Colab\"/></a>"
      ]
    },
    {
      "cell_type": "code",
      "metadata": {
        "id": "iBN8SNrx7x0y"
      },
      "source": [
        "# Northeastern University\n",
        "# EECE5639 Computer Vision\n",
        "\n",
        "# Spenser Cheung & Tim Liming\n",
        "\n",
        "# Project 1\n",
        "\n",
        "import cv2 \n",
        "import numpy as np \n",
        "import os\n",
        "from matplotlib import pyplot as plt\n",
        "from IPython.display import clear_output\n",
        "from time import sleep\n",
        "from scipy import ndimage\n",
        "\n",
        "from google.colab.patches import cv2_imshow\n",
        "from google.colab import drive\n"
      ],
      "execution_count": 1,
      "outputs": []
    },
    {
      "cell_type": "code",
      "metadata": {
        "id": "oiyTMG2BRlfi"
      },
      "source": [
        "!python3 --version"
      ],
      "execution_count": null,
      "outputs": []
    },
    {
      "cell_type": "code",
      "metadata": {
        "colab": {
          "base_uri": "https://localhost:8080/"
        },
        "id": "xAj3WRw2KJn9",
        "outputId": "e3c7b8cc-1262-4cf1-cd40-c3350c1bd41f"
      },
      "source": [
        "# Mount Google Drive in Google Colab\n",
        "\n",
        "# Public 'Office' folder link: \n",
        "# https://drive.google.com/drive/folders/1foo2U9aRLJ5osnCSF4ykIGJrTlZ7ubOk?usp=sharing\n",
        "\n",
        "# Public 'RedChair' folder link: \n",
        "# https://drive.google.com/drive/folders/1gH_nkSJy04r9ankfNtUAYSOMpVML53bx?usp=sharing\n",
        "\n",
        "drive.mount('/content/gdrive', force_remount=True)\n",
        "\n",
        "Office_path = \"/content/gdrive/MyDrive/EECE5639_P1_Office\"\n",
        "RedChair_path = \"/content/gdrive/MyDrive/EECE5639_P1_RedChair\""
      ],
      "execution_count": 2,
      "outputs": [
        {
          "output_type": "stream",
          "name": "stdout",
          "text": [
            "Mounted at /content/gdrive\n"
          ]
        }
      ]
    },
    {
      "cell_type": "code",
      "metadata": {
        "id": "e71zLXjZ9l4w",
        "colab": {
          "base_uri": "https://localhost:8080/"
        },
        "outputId": "6209065a-f58a-46b8-eedf-85013d35e057"
      },
      "source": [
        "# i. Read in a sequence of image frames and make them grayscale.\n",
        "\n",
        "# Office\n",
        "office_files = [filename for filename in sorted(os.listdir(Office_path)) if os.path.isfile(os.path.join(Office_path, filename))]\n",
        "\n",
        "office_images = []    \n",
        "for i in range(0, len(office_files)): \n",
        "    img = cv2.imread(os.path.join(Office_path, office_files[i]))\n",
        "    gray_img = cv2.cvtColor(img, cv2.COLOR_BGRA2GRAY)\n",
        "    office_images.append(gray_img)\n",
        "\n",
        "office_images = np.array(office_images)\n",
        "print(office_images.shape)\n"
      ],
      "execution_count": 9,
      "outputs": [
        {
          "output_type": "stream",
          "name": "stdout",
          "text": [
            "(1070, 240, 320)\n"
          ]
        }
      ]
    },
    {
      "cell_type": "code",
      "metadata": {
        "id": "vzWMkJ1GUNza",
        "colab": {
          "base_uri": "https://localhost:8080/"
        },
        "outputId": "72910be0-f955-446b-9fc2-ee9941c51a05"
      },
      "source": [
        "# i. Read in a sequence of image frames and make them grayscale.\n",
        "\n",
        "# RedChair\n",
        "redchair_files = [filename for filename in sorted(os.listdir(RedChair_path)) if os.path.isfile(os.path.join(RedChair_path, filename))]\n",
        "\n",
        "redchair_images = []\n",
        "for i in range(0, len(redchair_files)): \n",
        "    img = cv2.imread(os.path.join(RedChair_path, redchair_files[i]))\n",
        "    gray_img = cv2.cvtColor(img, cv2.COLOR_BGRA2GRAY)\n",
        "    redchair_images.append(gray_img)\n",
        "\n",
        "redchair_images = np.array(redchair_images)\n",
        "print(redchair_images.shape)\n"
      ],
      "execution_count": 3,
      "outputs": [
        {
          "output_type": "stream",
          "name": "stdout",
          "text": [
            "(353, 240, 320)\n"
          ]
        }
      ]
    },
    {
      "cell_type": "code",
      "metadata": {
        "id": "c5_ywVdSpDv0"
      },
      "source": [
        "def play_frames(frames):\n",
        "    for f in frames:\n",
        "        plt.imshow(f, cmap='gray')\n",
        "        plt.show()\n",
        "        #sleep(1)\n",
        "        clear_output(wait=True)"
      ],
      "execution_count": 17,
      "outputs": []
    },
    {
      "cell_type": "code",
      "metadata": {
        "id": "8HP3XlCVKVLq"
      },
      "source": [
        "# main\n",
        "\n",
        "# ii. As enough frames are available, apply a 1-D differential operator at each \n",
        "# pixel to compute a temporal derivative.\n",
        "\n",
        "#images = office_images\n",
        "images = redchair_images\n",
        "\n",
        "#play_frames(images)\n",
        "print(images.shape)\n",
        "\n",
        "# compute temporal derivative\n",
        "#Kx = -1*np.array([[-1, 0, 1]])\n",
        "Kx = 0.5 * -1*np.array([[-1, 0, 1]])\n",
        "\n",
        "td = []\n",
        "for i in range(1, len(images)):\n",
        "    diff = cv2.absdiff(images[i-1], images[i])\n",
        "    #diff = cv2.absdiff(images[i], images[i-1])\n",
        "    td.append(diff)\n",
        "\n",
        "    #img1 = ndimage.convolve(images[i], Kx)\n",
        "    #cv2_imshow(diff)\n",
        "    #cv2_imshow(img1)\n",
        "    #cv2_imshow(np.abs(img1))\n",
        "    #td.append(img1)\n",
        "    \n",
        "td = np.array(td)\n",
        "\n",
        "#while 1:\n",
        "#    wait = 1\n",
        "\n",
        "#os.mkdir('pics')\n",
        "#path = os.getcwd() +'/pics/'\n",
        "#for i in range(len(td)):\n",
        "#    filename = \"{}diff-{}.jpg\".format(path,i)\n",
        "#    cv2.imwrite(filename, td[i])\n",
        "\n",
        "#play_frames(td)\n",
        "print(td.shape)\n",
        "\n",
        "#-------------------------------------------------------------------------------\n",
        "# iii. Threshold the absolute values of the derivatives to create a 0 and 1 \n",
        "# mask of the moving objects.\n",
        "thresh = 25\n",
        "maxValue = 255\n",
        "\n",
        "mask = []\n",
        "for i in range(len(td)):\n",
        "    src = td[i]\n",
        "    #src = np.abs(td[i])\n",
        "    th, dst = cv2.threshold(src, thresh, maxValue, cv2.THRESH_BINARY);\n",
        "    mask.append(dst)\n",
        "    \n",
        "mask = np.array(mask)\n",
        "\n",
        "#for i in range(len(mask)):\n",
        "#    filename = \"{}mask-{}.jpg\".format(path,i)\n",
        "#    cv2.imwrite(filename, mask[i])\n",
        "\n",
        "#play_frames(mask)\n",
        "print(mask.shape)\n",
        "\n",
        "#-------------------------------------------------------------------------------\n",
        "# iv. Combine the mask with the original frame to display the results.\n",
        "\n",
        "output = []\n",
        "for i in range(1, len(images)):\n",
        "    #img = np.multiply(images[i], mask[i-1])\n",
        "    img = cv2.bitwise_and(images[i], images[i], mask=mask[i-1])\n",
        "    output.append(img)\n",
        "\n",
        "output = np.array(output)\n",
        "\n",
        "#for i in range(len(output)):\n",
        "#    filename = \"{}out-{}.jpg\".format(path,i)\n",
        "#    cv2.imwrite(filename, output[i])\n",
        "\n",
        "play_frames(output)\n",
        "print(output.shape)\n",
        "\n",
        "#import shutil\n",
        "#output_filename = 'p1-test'\n",
        "#dir_name = path\n",
        "#print(dir_name)\n",
        "#shutil.make_archive(output_filename, 'zip', dir_name)"
      ],
      "execution_count": null,
      "outputs": []
    }
  ]
}