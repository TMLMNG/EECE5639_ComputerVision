{
  "nbformat": 4,
  "nbformat_minor": 0,
  "metadata": {
    "colab": {
      "name": "p1",
      "provenance": [],
      "authorship_tag": "ABX9TyOz79VbFANpzVz2m/3Les7m",
      "include_colab_link": true
    },
    "kernelspec": {
      "name": "python3",
      "display_name": "Python 3"
    },
    "language_info": {
      "name": "python"
    }
  },
  "cells": [
    {
      "cell_type": "markdown",
      "metadata": {
        "id": "view-in-github",
        "colab_type": "text"
      },
      "source": [
        "<a href=\"https://colab.research.google.com/github/scheung97/EECE5639_ComputerVision/blob/main/p1.ipynb\" target=\"_parent\"><img src=\"https://colab.research.google.com/assets/colab-badge.svg\" alt=\"Open In Colab\"/></a>"
      ]
    },
    {
      "cell_type": "code",
      "metadata": {
        "id": "iBN8SNrx7x0y"
      },
      "source": [
        "# Northeastern University\n",
        "# EECE5639 Computer Vision\n",
        "\n",
        "# Spenser Cheung & Tim Liming\n",
        "\n",
        "# Project 1\n",
        "\n",
        "import cv2 \n",
        "import numpy as np \n",
        "import os\n",
        "from matplotlib import pyplot as plt"
      ],
      "execution_count": null,
      "outputs": []
    },
    {
      "cell_type": "code",
      "metadata": {
        "id": "e71zLXjZ9l4w"
      },
      "source": [
        "# i. Read in a sequence of image frames and make them grayscale.\n",
        "\n",
        "officePath = '../Office'\n",
        "redChairPath = r'../RedChair'\n",
        "\n",
        "images = []\n",
        "onlyfiles = [f for f in os.listdir(officePath) if os.path.isfile(os.path.join(officePath,f))]\n",
        "images = np.empty(len(onlyfiles), dtype=object)\n",
        "images_gray = np.empty(len(images), dtype=object)\n",
        "    \n",
        "for i in range(0, len(onlyfiles)): \n",
        "    images[i] = cv2.imread(os.path.join(officePath,onlyfiles[i]))\n",
        "    images_gray[i] = cv2.cvtColor(images[i],cv2.COLOR_BGRA2GRAY)\n",
        "    filename = \"../OfficeGray/grayimg%i.jpg\"%i\n",
        "    cv2.imwrite(filename, images_gray[i])\n",
        "\n",
        "print(images.shape)\n",
        "print(images_gray.shape)"
      ],
      "execution_count": null,
      "outputs": []
    },
    {
      "cell_type": "code",
      "metadata": {
        "id": "G320sT6bEchO"
      },
      "source": [
        "# ii. As enough frames are available, apply a 1-D differential operator at each \n",
        "# pixel to compute a temporal derivative.\n",
        "\n",
        "\n",
        "# simple filter\n",
        "temporal_filter = 0.5 * np.array([-1., 0., 1.])\n",
        "\n",
        "frame = 242\n",
        "frames1 = [images[frame-1,:,:], images[frame,:,:], images[frame+1,:,:]]\n",
        "img1 = np.tensordot(temporal_filter, frames, axes=(0,0))\n",
        "\n",
        "plt.imshow(img1)\n",
        "plt.show()\n",
        "\n",
        "# 1D derivative of a Gaussian\n",
        "tsigma = 1.0\n",
        "\n",
        "gaussian_filter = 1/16 * np.array([1 4 6 4 1])\n",
        "\n",
        "frame = 242\n",
        "frames2 = [images[frame-2,:,:], images[frame-1,:,:], images[frame,:,:], images[frame+1,:,:], images[frame+2,:,:]]\n",
        "img2 = np.tensordot(gaussian_filter, frames, axes=(0,0))\n",
        "\n",
        "plt.imshow(img2)\n",
        "plt.show()"
      ],
      "execution_count": null,
      "outputs": []
    }
  ]
}