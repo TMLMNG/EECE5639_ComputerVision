{
  "cells": [
    {
      "cell_type": "code",
      "execution_count": 1,
      "metadata": {
        "id": "iBN8SNrx7x0y"
      },
      "outputs": [
        {
          "ename": "ModuleNotFoundError",
          "evalue": "No module named 'matplotlib'",
          "output_type": "error",
          "traceback": [
            "\u001b[1;31m---------------------------------------------------------------------------\u001b[0m",
            "\u001b[1;31mModuleNotFoundError\u001b[0m                       Traceback (most recent call last)",
            "\u001b[1;32m~\\AppData\\Local\\Temp/ipykernel_24536/350610590.py\u001b[0m in \u001b[0;36m<module>\u001b[1;34m\u001b[0m\n\u001b[0;32m      8\u001b[0m \u001b[1;32mimport\u001b[0m \u001b[0mnumpy\u001b[0m \u001b[1;32mas\u001b[0m \u001b[0mnp\u001b[0m\u001b[1;33m\u001b[0m\u001b[1;33m\u001b[0m\u001b[0m\n\u001b[0;32m      9\u001b[0m \u001b[1;32mimport\u001b[0m \u001b[0mos\u001b[0m\u001b[1;33m\u001b[0m\u001b[1;33m\u001b[0m\u001b[0m\n\u001b[1;32m---> 10\u001b[1;33m \u001b[1;32mfrom\u001b[0m \u001b[0mmatplotlib\u001b[0m \u001b[1;32mimport\u001b[0m \u001b[0mpyplot\u001b[0m \u001b[1;32mas\u001b[0m \u001b[0mplt\u001b[0m\u001b[1;33m\u001b[0m\u001b[1;33m\u001b[0m\u001b[0m\n\u001b[0m\u001b[0;32m     11\u001b[0m \u001b[1;31m# from IPython.display import clear_output\u001b[0m\u001b[1;33m\u001b[0m\u001b[1;33m\u001b[0m\u001b[1;33m\u001b[0m\u001b[0m\n\u001b[0;32m     12\u001b[0m \u001b[1;31m# from time import sleep\u001b[0m\u001b[1;33m\u001b[0m\u001b[1;33m\u001b[0m\u001b[1;33m\u001b[0m\u001b[0m\n",
            "\u001b[1;31mModuleNotFoundError\u001b[0m: No module named 'matplotlib'"
          ]
        }
      ],
      "source": [
        "# Northeastern University\n",
        "# EECE5639 Computer Vision\n",
        "\n",
        "# Spenser Cheung & Tim Liming\n",
        "\n",
        "# Project 1\n",
        "import cv2 \n",
        "import numpy as np \n",
        "import os\n",
        "from matplotlib import pyplot as plt\n",
        "# from IPython.display import clear_output\n",
        "# from time import sleep\n",
        "\n",
        "# from google.colab.patches import cv2_imshow\n"
      ]
    },
    {
      "cell_type": "code",
      "execution_count": null,
      "metadata": {
        "id": "oiyTMG2BRlfi"
      },
      "outputs": [
        {
          "name": "stdout",
          "output_type": "stream",
          "text": [
            "Python 3.9.7\n"
          ]
        }
      ],
      "source": [
        "!python3 --version"
      ]
    },
    {
      "cell_type": "code",
      "execution_count": null,
      "metadata": {
        "colab": {
          "base_uri": "https://localhost:8080/"
        },
        "id": "xAj3WRw2KJn9",
        "outputId": "2134453e-b74f-46e2-e668-69880f1ce2f6"
      },
      "outputs": [],
      "source": [
        "# Mount Google Drive in Google Colab\n",
        "\n",
        "# Public 'Office' folder link: \n",
        "# https://drive.google.com/drive/folders/1foo2U9aRLJ5osnCSF4ykIGJrTlZ7ubOk?usp=sharing\n",
        "\n",
        "# Public 'RedChair' folder link: \n",
        "# https://drive.google.com/drive/folders/1gH_nkSJy04r9ankfNtUAYSOMpVML53bx?usp=sharing\n",
        "\n",
        "# drive.mount('/content/gdrive')\n",
        "\n",
        "Office_path = \"../OfficeGray/\"\n",
        "RedChair_path = \"../RedChairGray/\""
      ]
    },
    {
      "cell_type": "code",
      "execution_count": null,
      "metadata": {
        "colab": {
          "base_uri": "https://localhost:8080/"
        },
        "id": "e71zLXjZ9l4w",
        "outputId": "de19863d-6c42-4bd1-c0ab-ccc6cc8a1bcd"
      },
      "outputs": [
        {
          "name": "stdout",
          "output_type": "stream",
          "text": [
            "(1070, 240, 320)\n"
          ]
        }
      ],
      "source": [
        "# i. Read in a sequence of image frames and make them grayscale.\n",
        "\n",
        "# Office\n",
        "office_files = [filename for filename in sorted(os.listdir(Office_path)) if os.path.isfile(os.path.join(Office_path, filename))]\n",
        "\n",
        "office_images = []    \n",
        "for i in range(0, len(office_files)): \n",
        "    img = cv2.imread(os.path.join(Office_path, office_files[i]))\n",
        "    gray_img = cv2.cvtColor(img, cv2.COLOR_BGRA2GRAY)\n",
        "    office_images.append(gray_img)\n",
        "\n",
        "office_images = np.array(office_images)\n",
        "print(office_images.shape)\n"
      ]
    },
    {
      "cell_type": "code",
      "execution_count": null,
      "metadata": {
        "colab": {
          "base_uri": "https://localhost:8080/"
        },
        "id": "vzWMkJ1GUNza",
        "outputId": "13d1893c-d568-4288-c4d7-d43ca387b7db"
      },
      "outputs": [
        {
          "name": "stdout",
          "output_type": "stream",
          "text": [
            "(353, 240, 320)\n"
          ]
        }
      ],
      "source": [
        "# i. Read in a sequence of image frames and make them grayscale.\n",
        "\n",
        "# RedChair\n",
        "redchair_files = [filename for filename in sorted(os.listdir(RedChair_path)) if os.path.isfile(os.path.join(RedChair_path, filename))]\n",
        "\n",
        "redchair_images = []\n",
        "for i in range(0, len(redchair_files)): \n",
        "    img = cv2.imread(os.path.join(RedChair_path, redchair_files[i]))\n",
        "    gray_img = cv2.cvtColor(img, cv2.COLOR_BGRA2GRAY)\n",
        "    redchair_images.append(gray_img)\n",
        "\n",
        "redchair_images = np.array(redchair_images)\n",
        "print(redchair_images.shape)\n"
      ]
    },
    {
      "cell_type": "code",
      "execution_count": null,
      "metadata": {
        "id": "G320sT6bEchO"
      },
      "outputs": [
        {
          "name": "stdout",
          "output_type": "stream",
          "text": [
            "--------------------------------\n"
          ]
        },
        {
          "ename": "NameError",
          "evalue": "name 'plt' is not defined",
          "output_type": "error",
          "traceback": [
            "\u001b[1;31m---------------------------------------------------------------------------\u001b[0m",
            "\u001b[1;31mNameError\u001b[0m                                 Traceback (most recent call last)",
            "\u001b[1;32m~\\AppData\\Local\\Temp/ipykernel_20616/1300902003.py\u001b[0m in \u001b[0;36m<module>\u001b[1;34m\u001b[0m\n\u001b[0;32m     14\u001b[0m \u001b[0mframes1\u001b[0m \u001b[1;33m=\u001b[0m \u001b[1;33m[\u001b[0m\u001b[0mimages\u001b[0m\u001b[1;33m[\u001b[0m\u001b[0mframe\u001b[0m\u001b[1;33m-\u001b[0m\u001b[1;36m1\u001b[0m\u001b[1;33m,\u001b[0m\u001b[1;33m:\u001b[0m\u001b[1;33m,\u001b[0m\u001b[1;33m:\u001b[0m\u001b[1;33m]\u001b[0m\u001b[1;33m,\u001b[0m \u001b[0mimages\u001b[0m\u001b[1;33m[\u001b[0m\u001b[0mframe\u001b[0m\u001b[1;33m,\u001b[0m\u001b[1;33m:\u001b[0m\u001b[1;33m,\u001b[0m\u001b[1;33m:\u001b[0m\u001b[1;33m]\u001b[0m\u001b[1;33m,\u001b[0m \u001b[0mimages\u001b[0m\u001b[1;33m[\u001b[0m\u001b[0mframe\u001b[0m\u001b[1;33m+\u001b[0m\u001b[1;36m1\u001b[0m\u001b[1;33m,\u001b[0m\u001b[1;33m:\u001b[0m\u001b[1;33m,\u001b[0m\u001b[1;33m:\u001b[0m\u001b[1;33m]\u001b[0m\u001b[1;33m]\u001b[0m\u001b[1;33m\u001b[0m\u001b[1;33m\u001b[0m\u001b[0m\n\u001b[0;32m     15\u001b[0m \u001b[0mimg1\u001b[0m \u001b[1;33m=\u001b[0m \u001b[0mnp\u001b[0m\u001b[1;33m.\u001b[0m\u001b[0mtensordot\u001b[0m\u001b[1;33m(\u001b[0m\u001b[0mframes1\u001b[0m\u001b[1;33m,\u001b[0m \u001b[0mtemporal_filter\u001b[0m\u001b[1;33m,\u001b[0m \u001b[0maxes\u001b[0m\u001b[1;33m=\u001b[0m\u001b[1;33m(\u001b[0m\u001b[1;36m0\u001b[0m\u001b[1;33m,\u001b[0m\u001b[1;36m0\u001b[0m\u001b[1;33m)\u001b[0m\u001b[1;33m)\u001b[0m \u001b[1;31m# tensor product\u001b[0m\u001b[1;33m\u001b[0m\u001b[1;33m\u001b[0m\u001b[0m\n\u001b[1;32m---> 16\u001b[1;33m \u001b[0mplt\u001b[0m\u001b[1;33m.\u001b[0m\u001b[0mimshow\u001b[0m\u001b[1;33m(\u001b[0m\u001b[0mimg1\u001b[0m\u001b[1;33m,\u001b[0m \u001b[0mcmap\u001b[0m\u001b[1;33m=\u001b[0m\u001b[1;34m'gray'\u001b[0m\u001b[1;33m)\u001b[0m\u001b[1;33m\u001b[0m\u001b[1;33m\u001b[0m\u001b[0m\n\u001b[0m\u001b[0;32m     17\u001b[0m \u001b[0mplt\u001b[0m\u001b[1;33m.\u001b[0m\u001b[0mshow\u001b[0m\u001b[1;33m(\u001b[0m\u001b[1;33m)\u001b[0m\u001b[1;33m\u001b[0m\u001b[1;33m\u001b[0m\u001b[0m\n\u001b[0;32m     18\u001b[0m \u001b[0mprint\u001b[0m\u001b[1;33m(\u001b[0m\u001b[1;34m'--------------------------------'\u001b[0m\u001b[1;33m)\u001b[0m\u001b[1;33m\u001b[0m\u001b[1;33m\u001b[0m\u001b[0m\n",
            "\u001b[1;31mNameError\u001b[0m: name 'plt' is not defined"
          ]
        }
      ],
      "source": [
        "# ii. As enough frames are available, apply a 1-D differential operator at each \n",
        "# pixel to compute a temporal derivative.\n",
        "\n",
        "#images = office_images\n",
        "images = redchair_images\n",
        "\n",
        "# simple filter\n",
        "temporal_filter = 0.5 * np.array([-1., 0., 1.])\n",
        "\n",
        "frame = 162\n",
        "cv2.imshow('frame',images[frame,:,:])\n",
        "print('--------------------------------')\n",
        "\n",
        "frames1 = [images[frame-1,:,:], images[frame,:,:], images[frame+1,:,:]]\n",
        "img1 = np.tensordot(frames1, temporal_filter, axes=(0,0)) # tensor product\n",
        "plt.imshow(img1, cmap='gray')\n",
        "plt.show()\n",
        "print('--------------------------------')\n",
        "\n",
        "\n",
        "# 1D derivative of a Gaussian\n",
        "tsigma = 2.0\n",
        "\n",
        "gaussian_filter = 1/16 * np.array([1, 4, 6, 4, 1])\n",
        "\n",
        "frame = 162\n",
        "frames2 = [images[frame-2,:,:], images[frame-1,:,:], \\\n",
        "           images[frame,:,:], \\\n",
        "           images[frame+1,:,:], images[frame+2,:,:]]\n",
        "img2 = np.tensordot(frames2, gaussian_filter, axes=(0,0)) # tensor product\n",
        "\n",
        "plt.imshow(img2, cmap='gray')\n",
        "plt.show()\n"
      ]
    },
    {
      "cell_type": "code",
      "execution_count": null,
      "metadata": {
        "id": "8HP3XlCVKVLq"
      },
      "outputs": [
        {
          "name": "stdout",
          "output_type": "stream",
          "text": [
            "(353, 240, 320)\n",
            "[[ 0  0  0]\n",
            " [-1  0  1]\n",
            " [ 0  0  0]]\n",
            "(352, 240, 320)\n",
            "(352, 240, 320)\n"
          ]
        },
        {
          "ename": "NameError",
          "evalue": "name 'play_frames' is not defined",
          "output_type": "error",
          "traceback": [
            "\u001b[1;31m---------------------------------------------------------------------------\u001b[0m",
            "\u001b[1;31mNameError\u001b[0m                                 Traceback (most recent call last)",
            "\u001b[1;32m~\\AppData\\Local\\Temp/ipykernel_20616/3181782341.py\u001b[0m in \u001b[0;36m<module>\u001b[1;34m\u001b[0m\n\u001b[0;32m     59\u001b[0m \u001b[0moutput\u001b[0m \u001b[1;33m=\u001b[0m \u001b[0mnp\u001b[0m\u001b[1;33m.\u001b[0m\u001b[0marray\u001b[0m\u001b[1;33m(\u001b[0m\u001b[0moutput\u001b[0m\u001b[1;33m)\u001b[0m\u001b[1;33m\u001b[0m\u001b[1;33m\u001b[0m\u001b[0m\n\u001b[0;32m     60\u001b[0m \u001b[1;33m\u001b[0m\u001b[0m\n\u001b[1;32m---> 61\u001b[1;33m \u001b[0mplay_frames\u001b[0m\u001b[1;33m(\u001b[0m\u001b[0moutput\u001b[0m\u001b[1;33m)\u001b[0m\u001b[1;33m\u001b[0m\u001b[1;33m\u001b[0m\u001b[0m\n\u001b[0m\u001b[0;32m     62\u001b[0m \u001b[0mprint\u001b[0m\u001b[1;33m(\u001b[0m\u001b[0moutput\u001b[0m\u001b[1;33m.\u001b[0m\u001b[0mshape\u001b[0m\u001b[1;33m)\u001b[0m\u001b[1;33m\u001b[0m\u001b[1;33m\u001b[0m\u001b[0m\n",
            "\u001b[1;31mNameError\u001b[0m: name 'play_frames' is not defined"
          ]
        }
      ],
      "source": [
        "# main\n",
        "\n",
        "# ii. As enough frames are available, apply a 1-D differential operator at each \n",
        "# pixel to compute a temporal derivative.\n",
        "\n",
        "#images = office_images\n",
        "images = redchair_images\n",
        "\n",
        "#play_frames(images)\n",
        "print(images.shape)\n",
        "\n",
        "# compute temporal derivative\n",
        "operator_1d = np.array([-1, 0, 1])\n",
        "kernel2 = np.vstack((np.vstack(([0,0,0], operator_1d)), [0,0,0]))\n",
        "print(kernel2)\n",
        "\n",
        "td = []\n",
        "for i in range(1, len(images)):\n",
        "    diff = cv2.absdiff(images[i], images[i-1])\n",
        "    td.append(diff)\n",
        "\n",
        "    #frames1 = [images[i-1], images[i], images[i]]\n",
        "    #img1 = np.tensordot(frames1, operator_1d, axes=(0,0)) # tensor product\n",
        "    #img2 = cv2.filter2D(src=images[i], ddepth=-1, kernel=kernel2)\n",
        "    #cv2_imshow(diff)\n",
        "    #cv2_imshow(img1)\n",
        "    #cv2_imshow(img2)\n",
        "    #td.append(img2)\n",
        "    #break\n",
        "td = np.array(td)\n",
        "\n",
        "#play_frames(td)\n",
        "print(td.shape)\n",
        "\n",
        "#-------------------------------------------------------------------------------\n",
        "# iii. Threshold the absolute values of the derivatives to create a 0 and 1 \n",
        "# mask of the moving objects.\n",
        "thresh = 25\n",
        "maxValue = 255\n",
        "\n",
        "mask = []\n",
        "for i in range(len(td)):\n",
        "    img = td[i]\n",
        "    src = img.astype(np.uint8)\n",
        "    th, dst = cv2.threshold(src, thresh, maxValue, cv2.THRESH_BINARY);\n",
        "    mask.append(dst)\n",
        "mask = np.array(mask)\n",
        "\n",
        "#play_frames(mask)\n",
        "print(mask.shape)\n",
        "\n",
        "#-------------------------------------------------------------------------------\n",
        "# iv. Combine the mask with the original frame to display the results.\n",
        "\n",
        "output = []\n",
        "for i in range(1, len(images)):\n",
        "    img = np.multiply(images[i], mask[i-1])\n",
        "    output.append(img)\n",
        "output = np.array(output)\n",
        "\n",
        "play_frames(output)\n",
        "print(output.shape)"
      ]
    }
  ],
  "metadata": {
    "colab": {
      "authorship_tag": "ABX9TyPLDjnx2KktP1WonYFJErOc",
      "collapsed_sections": [],
      "include_colab_link": true,
      "mount_file_id": "1zRN4NA7SqTMaG-64AEuHtB9tmhDTswtJ",
      "name": "p1",
      "provenance": []
    },
    "interpreter": {
      "hash": "4808140c578deb91e1141f4116a70cb64a39b8779b4434d555218a980d753e6f"
    },
    "kernelspec": {
      "display_name": "Python 3.9.1 64-bit",
      "name": "python3"
    },
    "language_info": {
      "codemirror_mode": {
        "name": "ipython",
        "version": 3
      },
      "file_extension": ".py",
      "mimetype": "text/x-python",
      "name": "python",
      "nbconvert_exporter": "python",
      "pygments_lexer": "ipython3",
      "version": "3.9.1"
    }
  },
  "nbformat": 4,
  "nbformat_minor": 0
}
