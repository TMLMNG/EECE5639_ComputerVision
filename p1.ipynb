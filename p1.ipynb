{
  "nbformat": 4,
  "nbformat_minor": 0,
  "metadata": {
    "colab": {
      "name": "p1",
      "provenance": [],
      "authorship_tag": "ABX9TyPedRJfSi4MTWDOUSxCfVGH",
      "include_colab_link": true
    },
    "kernelspec": {
      "name": "python3",
      "display_name": "Python 3"
    },
    "language_info": {
      "name": "python"
    }
  },
  "cells": [
    {
      "cell_type": "markdown",
      "metadata": {
        "id": "view-in-github",
        "colab_type": "text"
      },
      "source": [
        "<a href=\"https://colab.research.google.com/github/scheung97/EECE5639_ComputerVision/blob/main/p1.ipynb\" target=\"_parent\"><img src=\"https://colab.research.google.com/assets/colab-badge.svg\" alt=\"Open In Colab\"/></a>"
      ]
    },
    {
      "cell_type": "code",
      "metadata": {
        "id": "iBN8SNrx7x0y"
      },
      "source": [
        "# Northeastern University\n",
        "# EECE5639 Computer Vision\n",
        "\n",
        "# Spenser Cheung & Tim Liming\n",
        "\n",
        "# Project 1\n",
        "\n",
        "import cv2 \n",
        "import numpy as np \n",
        "import os\n",
        "from matplotlib import pyplot as plt"
      ],
      "execution_count": null,
      "outputs": []
    }
  ]
}