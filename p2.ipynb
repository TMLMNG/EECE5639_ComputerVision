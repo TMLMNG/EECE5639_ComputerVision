{
  "nbformat": 4,
  "nbformat_minor": 0,
  "metadata": {
    "colab": {
      "name": "p2",
      "provenance": [],
      "collapsed_sections": [],
      "mount_file_id": "1zRN4NA7SqTMaG-64AEuHtB9tmhDTswtJ",
      "authorship_tag": "ABX9TyNGBm17a1lbrg/NPrA8jSG3",
      "include_colab_link": true
    },
    "kernelspec": {
      "name": "python3",
      "display_name": "Python 3"
    },
    "language_info": {
      "name": "python"
    }
  },
  "cells": [
    {
      "cell_type": "markdown",
      "metadata": {
        "id": "view-in-github",
        "colab_type": "text"
      },
      "source": [
        "<a href=\"https://colab.research.google.com/github/scheung97/EECE5639_ComputerVision/blob/main/p2.ipynb\" target=\"_parent\"><img src=\"https://colab.research.google.com/assets/colab-badge.svg\" alt=\"Open In Colab\"/></a>"
      ]
    },
    {
      "cell_type": "code",
      "metadata": {
        "id": "iBN8SNrx7x0y"
      },
      "source": [
        " # Northeastern University\n",
        "# EECE5639 Computer Vision\n",
        "\n",
        "# Spenser Cheung & Tim Liming\n",
        "\n",
        "# Project 2\n",
        "\n",
        "import cv2 \n",
        "import numpy as np \n",
        "import os\n",
        "from matplotlib import pyplot as plt\n",
        "from IPython.display import clear_output\n",
        "from time import sleep\n",
        "from scipy import ndimage\n",
        "from scipy import signal\n",
        "\n",
        "from google.colab.patches import cv2_imshow\n",
        "from google.colab import drive\n"
      ],
      "execution_count": 1,
      "outputs": []
    },
    {
      "cell_type": "code",
      "metadata": {
        "id": "oiyTMG2BRlfi"
      },
      "source": [
        "!python3 --version"
      ],
      "execution_count": null,
      "outputs": []
    },
    {
      "cell_type": "code",
      "metadata": {
        "colab": {
          "base_uri": "https://localhost:8080/"
        },
        "id": "xAj3WRw2KJn9",
        "outputId": "10686b6b-1424-4732-e182-f1ba3dc21479"
      },
      "source": [
        "# Mount Google Drive in Google Colab\n",
        "\n",
        "# Public 'DanaOffice' folder link: \n",
        "# https://drive.google.com/drive/folders/1WUWYblxSid4YkRJawACK7tNizW79Zk6h?usp=sharing\n",
        "\n",
        "# Public 'DanaHallWay1' folder link: \n",
        "# https://drive.google.com/drive/folders/1Y-nP4B0Usws3yPL4f0T-pGWNcd-o1qGs?usp=sharing\n",
        "\n",
        "drive.mount('/content/gdrive', force_remount=True)\n",
        "\n",
        "office_path = \"/content/gdrive/MyDrive/EECE5639_P2_DanaOffice\"\n",
        "hallway_path = \"/content/gdrive/MyDrive/EECE5639_P2_DanaHallWay1\""
      ],
      "execution_count": 2,
      "outputs": [
        {
          "output_type": "stream",
          "name": "stdout",
          "text": [
            "Mounted at /content/gdrive\n"
          ]
        }
      ]
    },
    {
      "cell_type": "code",
      "metadata": {
        "id": "e71zLXjZ9l4w",
        "colab": {
          "base_uri": "https://localhost:8080/"
        },
        "outputId": "8f054a59-64f7-480d-a1ae-e8cd2d34c161"
      },
      "source": [
        "# i. Read in two images.\n",
        "\n",
        "# Office\n",
        "office_files = [filename for filename in sorted(os.listdir(office_path)) if os.path.isfile(os.path.join(office_path, filename))]\n",
        "\n",
        "office_images = []    \n",
        "for i in range(0, len(office_files)): \n",
        "    img = cv2.imread(os.path.join(office_path, office_files[i]))\n",
        "    gray_img = cv2.cvtColor(img, cv2.COLOR_BGRA2GRAY)\n",
        "    office_images.append(gray_img)\n",
        "\n",
        "office_images = np.array(office_images)\n",
        "print(office_images.shape)\n"
      ],
      "execution_count": 3,
      "outputs": [
        {
          "output_type": "stream",
          "name": "stdout",
          "text": [
            "(10, 340, 512)\n"
          ]
        }
      ]
    },
    {
      "cell_type": "code",
      "metadata": {
        "id": "vzWMkJ1GUNza",
        "colab": {
          "base_uri": "https://localhost:8080/"
        },
        "outputId": "257dacab-ffc6-48a9-a719-541f661f718f"
      },
      "source": [
        "# i. Read in two images.\n",
        "\n",
        "# Hallway\n",
        "hallway_files = [filename for filename in sorted(os.listdir(hallway_path)) if os.path.isfile(os.path.join(hallway_path, filename))]\n",
        "\n",
        "hallway_images = []\n",
        "for i in range(0, len(hallway_files)): \n",
        "    img = cv2.imread(os.path.join(hallway_path, hallway_files[i]))\n",
        "    gray_img = cv2.cvtColor(img, cv2.COLOR_BGRA2GRAY)\n",
        "    hallway_images.append(gray_img)\n",
        "\n",
        "hallway_images = np.array(hallway_images)\n",
        "print(hallway_images.shape)\n"
      ],
      "execution_count": 4,
      "outputs": [
        {
          "output_type": "stream",
          "name": "stdout",
          "text": [
            "(3, 340, 512)\n"
          ]
        }
      ]
    },
    {
      "cell_type": "code",
      "metadata": {
        "colab": {
          "base_uri": "https://localhost:8080/",
          "height": 408
        },
        "id": "3IkMmSPbWTTX",
        "outputId": "844699b1-450d-454d-b989-6e6459d9d3c1"
      },
      "source": [
        "# i. Read in two images. (Note: if the images are large, you may want to reduce\n",
        "# their size to keep running time reasonable! Document in your report the scale\n",
        "# factor you used.)\n",
        "\n",
        "use_hall = True\n",
        "#use_hall = False\n",
        "if use_hall:\n",
        "    img1, img2 = np.random.default_rng().choice(hallway_images, 2, replace=False)\n",
        "else:\n",
        "    img1, img2 = np.random.default_rng().choice(office_images, 2, replace=False)\n",
        "\n",
        "#print('Original Images:')\n",
        "#cv2_imshow(img1)\n",
        "#print('--------------------------------------------------------------')\n",
        "#cv2_imshow(img2)\n",
        "#print('--------------------------------------------------------------')\n",
        "\n",
        "scale = 0.5\n",
        "r_img1 = cv2.resize(img1, (0,0), fx=scale, fy=scale)\n",
        "r_img2 = cv2.resize(img2, (0,0), fx=scale, fy=scale)\n",
        "\n",
        "print('Reduced Images:')\n",
        "cv2_imshow(r_img1)\n",
        "print('----------------------------------')\n",
        "cv2_imshow(r_img2)\n",
        "print('----------------------------------')\n"
      ],
      "execution_count": 29,
      "outputs": [
        {
          "output_type": "stream",
          "name": "stdout",
          "text": [
            "Reduced Images:\n"
          ]
        },
        {
          "output_type": "display_data",
          "data": {
            "image/png": "[encoded data removed]",
            "text/plain": [
              "<PIL.Image.Image image mode=L size=256x170 at 0x7F9E0A36D190>"
            ]
          },
          "metadata": {}
        },
        {
          "output_type": "stream",
          "name": "stdout",
          "text": [
            "----------------------------------\n"
          ]
        },
        {
          "output_type": "display_data",
          "data": {
            "image/png": "[encoded data removed]",
            "text/plain": [
              "<PIL.Image.Image image mode=L size=256x170 at 0x7F9E0A36D710>"
            ]
          },
          "metadata": {}
        },
        {
          "output_type": "stream",
          "name": "stdout",
          "text": [
            "----------------------------------\n"
          ]
        }
      ]
    },
    {
      "cell_type": "code",
      "metadata": {
        "colab": {
          "base_uri": "https://localhost:8080/",
          "height": 748
        },
        "id": "G7rOjuT1Dz3K",
        "outputId": "4cfadf83-4bff-4665-f234-214c53c5895c"
      },
      "source": [
        "# ii. Apply Harris corner detector to both images: compute Harris R function \n",
        "# over the image, and then do non-maximum suppression to get a sparse set of \n",
        "# corner features.\n",
        "\n",
        "# https://opencv24-python-tutorials.readthedocs.io/en/latest/py_tutorials/py_feature2d/py_features_harris/py_features_harris.html\n",
        "# https://stackoverflow.com/a/56802012\n",
        "\n",
        "# https://stackoverflow.com/questions/6931362/non-maximum-suppression-in-opencv\n",
        "# https://fahmifahim.com/2010/10/22/opencv-corner-detection/\n",
        "\n",
        "\n",
        "def harris1(img):\n",
        "    # Compute the Image Gradient\n",
        "    Ix = cv2.Sobel(img, ddepth=cv2.CV_64F, dx=1, dy=0, ksize=3)\n",
        "    Iy = cv2.Sobel(img, ddepth=cv2.CV_64F, dx=0, dy=1, ksize=3)\n",
        "\n",
        "    # Compute products of derivatives at each pixel\n",
        "    I2x = Ix * Ix\n",
        "    I2y = Iy * Iy\n",
        "    Ixy = Ix * Iy\n",
        "\n",
        "    # Compute the sums of the products at each pixel using a window averaging:\n",
        "    gauss_window = signal.windows.gaussian(3 * 3, std=1, sym=True)\n",
        "    gauss_window = np.reshape(gauss_window, (3, 3))\n",
        "\n",
        "    S2x = signal.convolve2d(gauss_window, I2x) # Gs' * I2x\n",
        "    S2y = signal.convolve2d(gauss_window, I2y) # Gs’ * I2y \n",
        "    Sxy = signal.convolve2d(gauss_window, Ixy) # Gs’ * Ixy\n",
        "\n",
        "    # Define the Matrix at each pixel\n",
        "    M_top = np.hstack((S2x, Sxy))\n",
        "    M_bot = np.hstack((Sxy, S2y))\n",
        "    M = np.vstack((M_top, M_bot)) # [S2x Sxy ; Sxy S2y]\n",
        "    #print(M)\n",
        "\n",
        "    # Compute the response\n",
        "    k = 0.04\n",
        "    det_M = (S2x * S2y) - (Sxy * Sxy)\n",
        "    trace_M = (S2x + S2y)\n",
        "    R = det_M - k * (trace_M)**2\n",
        "    print('R:')\n",
        "    #print(R)\n",
        "    cv2_imshow(R)\n",
        "\n",
        "    # Threshold R\n",
        "    ret, R = cv2.threshold(R, 0.01*R.max(), 255, 0)\n",
        "    print('Thresholded R:')\n",
        "    #print(R)\n",
        "    cv2_imshow(R)\n",
        "\n",
        "    # Compute Nonmax suppression\n",
        "    image = np.pad(R, ((1, 1), (1, 1)))\n",
        "    local_max = np.zeros_like(image)\n",
        "\n",
        "    for i in range(1,image.shape[0]-1):\n",
        "        for j in range(1,image.shape[1]-1):\n",
        "            window = image[i-1:i+2, j-1:j+2]\n",
        "            if image[i,j] == np.amax(window):\n",
        "                local_max[i,j] = image[i,j]\n",
        "\n",
        "    # remove padding\n",
        "    corners = local_max[2:-2, 2:-2]\n",
        "\n",
        "    return corners, (corners + img)\n",
        "\n",
        "\n",
        "def harris2(img):\n",
        "    # find Harris corners\n",
        "    src = np.float32(img)\n",
        "    dst = cv2.cornerHarris(src, blockSize=2, ksize=3, k=0.05)\n",
        "\n",
        "    # result is dilated for marking the corners\n",
        "    dst = cv2.dilate(dst, None)\n",
        "\n",
        "    # Threshold for an optimal value\n",
        "    ret, dst = cv2.threshold(dst, 0.01*dst.max(), 255, 0)\n",
        "    dst = np.uint8(dst)\n",
        "\n",
        "    # find centroids\n",
        "    ret, labels, stats, centroids = cv2.connectedComponentsWithStats(dst)\n",
        "\n",
        "    # define the criteria to stop and refine the corners\n",
        "    criteria = (cv2.TERM_CRITERIA_EPS + cv2.TERM_CRITERIA_MAX_ITER, 100, 0.001)\n",
        "    corners = cv2.cornerSubPix(img, np.float32(centroids), (5,5), (-1,-1), criteria)\n",
        "\n",
        "    # Now draw them\n",
        "    res = np.hstack((centroids, corners))\n",
        "    res = np.int0(res)\n",
        "    img[res[:,1],res[:,0]] = 255\n",
        "\n",
        "    corners = np.zeros_like(img)\n",
        "    corners[res[:,1],res[:,0]] = 255\n",
        "    return corners, img\n",
        "\n",
        "# -----------------------------------------\n",
        "\n",
        "#corners1, h_img1 = harris1(r_img1)\n",
        "#corners2, h_img2 = harris1(r_img2)\n",
        "#cv2_imshow(corners1)\n",
        "#cv2_imshow(corners2)\n",
        "\n",
        "corners1, h_img1 = harris2(r_img1)\n",
        "corners2, h_img2 = harris2(r_img2)\n",
        "cv2_imshow(corners1)\n",
        "cv2_imshow(corners2)\n",
        "\n",
        "\n",
        "print('Harris Corners:')\n",
        "cv2_imshow(h_img1)\n",
        "print('----------------------------------')\n",
        "cv2_imshow(h_img2)\n",
        "print('----------------------------------')\n"
      ],
      "execution_count": 30,
      "outputs": [
        {
          "output_type": "display_data",
          "data": {
            "image/png": "[encoded data removed]",
            "text/plain": [
              "<PIL.Image.Image image mode=L size=256x170 at 0x7F9E0A4E7DD0>"
            ]
          },
          "metadata": {}
        },
        {
          "output_type": "display_data",
          "data": {
            "image/png": "[encoded data removed]",
            "text/plain": [
              "<PIL.Image.Image image mode=L size=256x170 at 0x7F9E0A36DCD0>"
            ]
          },
          "metadata": {}
        },
        {
          "output_type": "stream",
          "name": "stdout",
          "text": [
            "Harris Corners:\n"
          ]
        },
        {
          "output_type": "display_data",
          "data": {
            "image/png": "[encoded data removed]",
            "text/plain": [
              "<PIL.Image.Image image mode=L size=256x170 at 0x7F9E0A36D3D0>"
            ]
          },
          "metadata": {}
        },
        {
          "output_type": "stream",
          "name": "stdout",
          "text": [
            "----------------------------------\n"
          ]
        },
        {
          "output_type": "display_data",
          "data": {
            "image/png": "[encoded data removed]",
            "text/plain": [
              "<PIL.Image.Image image mode=L size=256x170 at 0x7F9E0A36D050>"
            ]
          },
          "metadata": {}
        },
        {
          "output_type": "stream",
          "name": "stdout",
          "text": [
            "----------------------------------\n"
          ]
        }
      ]
    },
    {
      "cell_type": "code",
      "metadata": {
        "colab": {
          "base_uri": "https://localhost:8080/"
        },
        "id": "tLlNSqeKD9OC",
        "outputId": "4b00caa3-0292-4369-d8ff-060b46787ef6"
      },
      "source": [
        "# iii. Find correspondences between the two images: given two set of corners \n",
        "# from the two images, compute normalized cross correlation (NCC) of image \n",
        "# patches centered at each corner. (Note that this will be O(n2) process.) \n",
        "# Choose potential corner matches by finding pair of corners (one from each \n",
        "# image) such that they have the highest NCC value. You may also set a \n",
        "# threshold to keep only matches that have a large NCC score.\n",
        "\n",
        "def corner_coords(corners):\n",
        "    # get corner locations\n",
        "    idx = np.where(corners > 0)\n",
        "    idx = np.array(idx).T\n",
        "    return idx\n",
        "\n",
        "\n",
        "coords1 = corner_coords(corners1)\n",
        "coords2 = corner_coords(corners2)"
      ],
      "execution_count": 32,
      "outputs": [
        {
          "output_type": "stream",
          "name": "stdout",
          "text": [
            "[[  1 123]\n",
            " [  1 217]\n",
            " [  4  97]\n",
            " [  5 188]\n",
            " [  7 254]\n",
            " [  9 219]\n",
            " [ 12 191]\n",
            " [ 13 133]\n",
            " [ 22 133]\n",
            " [ 24 153]\n",
            " [ 27 238]\n",
            " [ 27 251]\n",
            " [ 28   7]\n",
            " [ 32 183]\n",
            " [ 35 166]\n",
            " [ 40 221]\n",
            " [ 41 205]\n",
            " [ 51 173]\n",
            " [ 53 194]\n",
            " [ 55 219]\n",
            " [ 58 254]\n",
            " [ 59 196]\n",
            " [ 61 248]\n",
            " [ 62 174]\n",
            " [ 62 223]\n",
            " [ 63 217]\n",
            " [ 64 201]\n",
            " [ 69  98]\n",
            " [ 72 221]\n",
            " [ 72 254]\n",
            " [ 75 196]\n",
            " [ 78 174]\n",
            " [ 80  98]\n",
            " [ 82 252]\n",
            " [ 83 134]\n",
            " [ 83 144]\n",
            " [ 84 125]\n",
            " [ 84 153]\n",
            " [ 84 196]\n",
            " [ 84 202]\n",
            " [ 86 222]\n",
            " [ 89 136]\n",
            " [ 93 203]\n",
            " [ 97   9]\n",
            " [105 217]\n",
            " [111 184]\n",
            " [114 239]\n",
            " [117 247]\n",
            " [120 168]\n",
            " [122 243]\n",
            " [122 249]\n",
            " [126 253]\n",
            " [132 151]\n",
            " [133 141]\n",
            " [142 141]\n",
            " [157 100]\n",
            " [163  34]\n",
            " [168 115]]\n",
            "[[  1 153]\n",
            " [  2 221]\n",
            " [  2 254]\n",
            " [  3 251]\n",
            " [  4 126]\n",
            " [  8 224]\n",
            " [ 12 162]\n",
            " [ 21 163]\n",
            " [ 22 182]\n",
            " [ 30  26]\n",
            " [ 30  41]\n",
            " [ 30 214]\n",
            " [ 33 195]\n",
            " [ 38 238]\n",
            " [ 45  22]\n",
            " [ 50 203]\n",
            " [ 51 225]\n",
            " [ 53 251]\n",
            " [ 57 227]\n",
            " [ 58  14]\n",
            " [ 59  33]\n",
            " [ 60   9]\n",
            " [ 61 204]\n",
            " [ 61 233]\n",
            " [ 61 251]\n",
            " [ 64  24]\n",
            " [ 65  18]\n",
            " [ 69 128]\n",
            " [ 72 206]\n",
            " [ 74  14]\n",
            " [ 74 228]\n",
            " [ 74 235]\n",
            " [ 76  33]\n",
            " [ 80 128]\n",
            " [ 81 204]\n",
            " [ 82 163]\n",
            " [ 82 174]\n",
            " [ 83 183]\n",
            " [ 83 228]\n",
            " [ 84 126]\n",
            " [ 87 166]\n",
            " [ 92 236]\n",
            " [ 93   3]\n",
            " [ 93 230]\n",
            " [ 95  42]\n",
            " [106 251]\n",
            " [112 215]\n",
            " [122 197]\n",
            " [132 169]\n",
            " [133 180]\n",
            " [142 170]\n",
            " [156 129]\n",
            " [159  65]\n",
            " [166  65]\n",
            " [168 143]]\n"
          ]
        }
      ]
    }
  ]
}